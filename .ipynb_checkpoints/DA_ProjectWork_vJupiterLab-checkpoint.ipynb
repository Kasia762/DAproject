{
 "cells": [
  {
   "cell_type": "code",
   "execution_count": 244,
   "metadata": {},
   "outputs": [],
   "source": [
    "#%pip install ipywidgets\n",
    "#%pip install voila\n",
    "#%pip install voila-gridstack"
   ]
  },
  {
   "cell_type": "code",
   "execution_count": 245,
   "metadata": {},
   "outputs": [],
   "source": [
    "import warnings\n",
    "warnings.simplefilter(action='ignore', category=FutureWarning)\n",
    "import numpy as np\n",
    "import matplotlib.pyplot as plt\n",
    "import pandas as pd\n",
    "#import pandas.util.testing as tm\n",
    "import statsmodels.api as sm\n",
    "import seaborn as sns\n",
    "import statsmodels.formula.api as smf\n",
    "import ipywidgets as wdg\n",
    "from IPython.display import display"
   ]
  },
  {
   "cell_type": "code",
   "execution_count": 246,
   "metadata": {},
   "outputs": [],
   "source": [
    "### input data\n",
    "## data filename\n",
    "datafilename1 = 'sepsis_survival_primary.csv'\n",
    "datafilename2 = 'sepsis_survival_study.csv'\n",
    "datafilename3 = 'sepsis_survival_validation.csv'\n",
    "\n",
    "## depended Variable column name\n",
    "dependVar = 'hospital_outcome_1alive_0dead'\n",
    "## exclude columns from analyze (text, urls, etc. )\n",
    "excludeColumns = []\n",
    "## minimum correlation coeff to assume as a key variable\n",
    "minimumCorrCoef = 0.01\n",
    "threshold = 0.5\n"
   ]
  },
  {
   "cell_type": "code",
   "execution_count": 255,
   "metadata": {},
   "outputs": [
    {
     "data": {
      "text/html": [
       "<div>\n",
       "<style scoped>\n",
       "    .dataframe tbody tr th:only-of-type {\n",
       "        vertical-align: middle;\n",
       "    }\n",
       "\n",
       "    .dataframe tbody tr th {\n",
       "        vertical-align: top;\n",
       "    }\n",
       "\n",
       "    .dataframe thead th {\n",
       "        text-align: right;\n",
       "    }\n",
       "</style>\n",
       "<table border=\"1\" class=\"dataframe\">\n",
       "  <thead>\n",
       "    <tr style=\"text-align: right;\">\n",
       "      <th></th>\n",
       "      <th>age_years</th>\n",
       "      <th>sex_0male_1female</th>\n",
       "      <th>episode_number</th>\n",
       "      <th>hospital_outcome_1alive_0dead</th>\n",
       "    </tr>\n",
       "  </thead>\n",
       "  <tbody>\n",
       "    <tr>\n",
       "      <th>0</th>\n",
       "      <td>21</td>\n",
       "      <td>1</td>\n",
       "      <td>1</td>\n",
       "      <td>1</td>\n",
       "    </tr>\n",
       "    <tr>\n",
       "      <th>1</th>\n",
       "      <td>20</td>\n",
       "      <td>1</td>\n",
       "      <td>1</td>\n",
       "      <td>1</td>\n",
       "    </tr>\n",
       "    <tr>\n",
       "      <th>2</th>\n",
       "      <td>21</td>\n",
       "      <td>1</td>\n",
       "      <td>1</td>\n",
       "      <td>1</td>\n",
       "    </tr>\n",
       "    <tr>\n",
       "      <th>3</th>\n",
       "      <td>77</td>\n",
       "      <td>0</td>\n",
       "      <td>1</td>\n",
       "      <td>1</td>\n",
       "    </tr>\n",
       "    <tr>\n",
       "      <th>4</th>\n",
       "      <td>72</td>\n",
       "      <td>0</td>\n",
       "      <td>1</td>\n",
       "      <td>1</td>\n",
       "    </tr>\n",
       "  </tbody>\n",
       "</table>\n",
       "</div>"
      ],
      "text/plain": [
       "   age_years  sex_0male_1female  episode_number  hospital_outcome_1alive_0dead\n",
       "0         21                  1               1                              1\n",
       "1         20                  1               1                              1\n",
       "2         21                  1               1                              1\n",
       "3         77                  0               1                              1\n",
       "4         72                  0               1                              1"
      ]
     },
     "execution_count": 255,
     "metadata": {},
     "output_type": "execute_result"
    }
   ],
   "source": [
    "## read CSV file, autodetect delimeters, skip spaces in names\n",
    "df1 = pd.read_csv(datafilename1, sep=None, engine=\"python\", skipinitialspace=True)\n",
    "df2 = pd.read_csv(datafilename2, sep=None, engine=\"python\", skipinitialspace=True)\n",
    "df3 = pd.read_csv(datafilename3, sep=None, engine=\"python\", skipinitialspace=True)\n",
    "dfs = [df1, df2, df3]\n",
    "df1.head()"
   ]
  },
  {
   "cell_type": "code",
   "execution_count": 286,
   "metadata": {},
   "outputs": [
    {
     "name": "stdout",
     "output_type": "stream",
     "text": [
      "Total NaN:  0\n",
      "Total NaN:  0\n",
      "Total NaN:  0\n"
     ]
    }
   ],
   "source": [
    "for df in dfs:\n",
    "    ## exclude columns\n",
    "    df.drop(excludeColumns, axis ='columns', inplace = True)\n",
    "    ## and drop  all NaN\n",
    "    df.dropna(inplace=True)\n",
    "    ## place depended var into pos 0\n",
    "    poped = df.pop(dependVar)\n",
    "    df.insert(0, poped.name, poped)\n",
    "    #how many values are missing\n",
    "    print(\"Total NaN: \",df.isnull().sum().sum())\n",
    "          #df.isnull().sum())\n",
    "        \n",
    "## independed variable columns names  \n",
    "independVarList = list(df.columns.values)\n",
    "independVarList.remove(dependVar)\n",
    "dfclean = df.copy()"
   ]
  },
  {
   "cell_type": "code",
   "execution_count": 293,
   "metadata": {},
   "outputs": [
    {
     "data": {
      "application/vnd.jupyter.widget-view+json": {
       "model_id": "a7019b49e94d4272babb2bf7955a13b0",
       "version_major": 2,
       "version_minor": 0
      },
      "text/plain": [
       "interactive(children=(Dropdown(description='X value', index=1, options=('hospital_outcome_1alive_0dead', 'age_…"
      ]
     },
     "metadata": {},
     "output_type": "display_data"
    },
    {
     "data": {
      "application/vnd.jupyter.widget-view+json": {
       "model_id": "e8906ea474694ff4826b84513943a8df",
       "version_major": 2,
       "version_minor": 0
      },
      "text/plain": [
       "HBox(children=(Dropdown(description='X value', index=1, options=('hospital_outcome_1alive_0dead', 'age_years',…"
      ]
     },
     "metadata": {},
     "output_type": "display_data"
    },
    {
     "data": {
      "text/plain": [
       "<function __main__.plot_histogram(x='age_years', nBins=15, PlotKDE=False)>"
      ]
     },
     "metadata": {},
     "output_type": "display_data"
    }
   ],
   "source": [
    "allVars=dfclean.columns\n",
    "####WORK ON THIS ONE!!!!!\n",
    "##PUT widgets horizontally\n",
    "nxdr = wdg.Dropdown(options = allVars, value = allVars[1], \n",
    "                    description = 'X value', option = 'X var')\n",
    "nBinsdr = wdg.Dropdown(options=[2,10,15,20,40], value=2, \n",
    "                    description = 'Bins number', option = 'Bin value')\n",
    "\n",
    "def plot_histogram(x = 'age_years', nBins = 15, PlotKDE = False):    \n",
    "    sns.histplot(data = dfclean[x] , bins = nBins, kde = PlotKDE)\n",
    "\n",
    "out = wdg.interact(plot_histogram, nBins = nBinsdr,PlotKDE = False,x=nxdr)\n",
    "ui = wdg.HBox([nxdr,nBinsdr])\n",
    "display(ui,out)"
   ]
  },
  {
   "cell_type": "code",
   "execution_count": 279,
   "metadata": {},
   "outputs": [],
   "source": [
    "dftrain = dfclean.sample(frac=0.8, random_state = 200) #training data set (80%)\n",
    "dftest = dfclean.drop(dftrain.index) #testing data set (20%)"
   ]
  },
  {
   "cell_type": "markdown",
   "metadata": {},
   "source": [
    "## Regular regressional analise through all possible variables"
   ]
  },
  {
   "cell_type": "code",
   "execution_count": 232,
   "metadata": {},
   "outputs": [],
   "source": [
    "def HeatmapCorr(df): \n",
    "    sns.set(rc = {'figure.figsize':(15,8)})\n",
    "    sns.set_theme(style=\"white\")\n",
    "    corr = df.corr()\n",
    "    # Generate a mask for the upper triangle\n",
    "    mask = np.triu(np.ones_like(corr, dtype=bool))\n",
    "    # Custom colormap\n",
    "    cmap = sns.diverging_palette(275, 150, s=90, l=50, n=9, as_cmap=True)\n",
    "    sns.heatmap(corr, mask=mask, cmap=cmap,  linewidths=0.3, cbar_kws={\"shrink\":0.5})"
   ]
  },
  {
   "cell_type": "code",
   "execution_count": 233,
   "metadata": {
    "tags": []
   },
   "outputs": [],
   "source": [
    "#HeatmapCorr(df1)"
   ]
  },
  {
   "cell_type": "code",
   "execution_count": 234,
   "metadata": {},
   "outputs": [],
   "source": [
    "def GetKeyVariables(df):\n",
    "    parCorr = pd.DataFrame(df.corr() )\n",
    "    n = len(parCorr.columns)\n",
    "    keyVars = pd.DataFrame(columns=['key', 'val'])\n",
    "    ## depended variable moved to index 0\n",
    "    i = 0\n",
    "    for j in range( n):\n",
    "        if j >= i:\n",
    "            keyVars = keyVars.append({'key':parCorr.columns[j],'val':parCorr.iloc[i, j]}, ignore_index=True)\n",
    "    ## sort key vars by value\n",
    "    keyVars.pop(df.columns[0])\n",
    "    keyVars.sort_values(by='val', key=abs, ascending=False, inplace=True)\n",
    "    return keyVars\n",
    "\n",
    "#display(GetKeyVariables(dftrain[[dependVar, *set1]]))\n",
    "#display(GetKeyVariables(dftrain[[dependVar, *set2]]))\n",
    "#display(GetKeyVariables(dftrain[[dependVar, *set3]]))\n",
    "#display(GetKeyVariables(dftrain[[dependVar, *set4]]))\n",
    "#display(GetKeyVariables(dftrain[[dependVar, *set5]]))\n",
    "#display(GetKeyVariables(dftrain))\n"
   ]
  },
  {
   "cell_type": "code",
   "execution_count": 235,
   "metadata": {},
   "outputs": [],
   "source": [
    "#for1 = dftrain.columns[4]+'~'+dftrain.columns[4]"
   ]
  },
  {
   "cell_type": "code",
   "execution_count": 236,
   "metadata": {},
   "outputs": [],
   "source": [
    "#mod = smf.ols(formula=for1, data = dftrain)\n",
    "#res = mod.fit()\n",
    "#res.summary()"
   ]
  },
  {
   "cell_type": "code",
   "execution_count": 237,
   "metadata": {},
   "outputs": [],
   "source": [
    "def LogRegModel(independVarList):\n",
    "    indepVars = ''\n",
    "    for i in range(0,len(independVarList)-1):\n",
    "        indepVars+=independVarList[i]\n",
    "        indepVars+=\" + \"\n",
    "    indepVars+=independVarList[-1]\n",
    "    depVar = dependVar\n",
    "    model = smf.logit(formula = depVar+' ~ '+ indepVars,data = dftrain)\n",
    "    res = model.fit()\n",
    "    print(depVar,'~',indepVars,':',\n",
    "              round(res.prsquared,5))#McFadden's pseudo-R-squared.\n",
    "    \"\"\"\n",
    "    inSample = pd.DataFrame({'prob':res.predict(dftest[independVarList])}) #probabilities \n",
    "    inSample['predLabel'] = (inSample['prob'] > threshold).astype(int) #labels based on probabilities\n",
    "    inSample.head()\n",
    "    confMatrix = pd.crosstab(inSample['predLabel'],dftest[depVar])\n",
    "    #sns.heatmap(confMatrix, annot = True)                  \n",
    "    #plt.show()\n",
    "    #calculation of BA \n",
    "    BA=0\n",
    "    TN = confMatrix.loc[0,0]\n",
    "    FN = confMatrix.loc[0,1]\n",
    "    FP = confMatrix.loc[1,0]\n",
    "    TP = confMatrix.loc[1,1]\n",
    "    TPR = TP/(TP + FN)\n",
    "    TNR = TN/(TN + FP)\n",
    "    BA = (TPR + TNR)/2\n",
    "    print(f'BA = {BA:0.4f}')\n",
    "    \"\"\"\n",
    "def LogRegModelSqrt(independVarList):\n",
    "    indepVars = ''\n",
    "    for i in range(0,len(independVarList)-1):\n",
    "        indepVars+='np.power('+independVarList[i]+',2)'\n",
    "        indepVars+=\" + \"\n",
    "    indepVars+='np.power('+independVarList[-1]+',2)'\n",
    "    depVar = dependVar\n",
    "    model = smf.logit(formula = depVar+' ~ '+ indepVars,data = dftrain)\n",
    "    res = model.fit()\n",
    "    print(depVar,'~',indepVars,':',\n",
    "              round(res.prsquared,5))#McFadden's pseudo-R-squared."
   ]
  },
  {
   "cell_type": "code",
   "execution_count": 238,
   "metadata": {},
   "outputs": [
    {
     "name": "stdout",
     "output_type": "stream",
     "text": [
      "Optimization terminated successfully.\n",
      "         Current function value: 0.403407\n",
      "         Iterations 6\n",
      "hospital_outcome_1alive_0dead ~ age_years + sex_0male_1female + episode_number : 0.12338\n",
      "Optimization terminated successfully.\n",
      "         Current function value: 0.459467\n",
      "         Iterations 6\n",
      "hospital_outcome_1alive_0dead ~ age_years : 0.00156\n",
      "Optimization terminated successfully.\n",
      "         Current function value: 0.458175\n",
      "         Iterations 6\n",
      "hospital_outcome_1alive_0dead ~ sex_0male_1female : 0.00437\n",
      "Optimization terminated successfully.\n",
      "         Current function value: 0.405959\n",
      "         Iterations 6\n",
      "hospital_outcome_1alive_0dead ~ episode_number : 0.11783\n"
     ]
    }
   ],
   "source": [
    "LogRegModel(independVarList)\n",
    "LogRegModel(independVarList[0:1])\n",
    "LogRegModel(independVarList[1:2])\n",
    "LogRegModel(independVarList[2:3])"
   ]
  },
  {
   "cell_type": "code",
   "execution_count": 239,
   "metadata": {},
   "outputs": [
    {
     "name": "stdout",
     "output_type": "stream",
     "text": [
      "Optimization terminated successfully.\n",
      "         Current function value: 0.403406\n",
      "         Iterations 6\n",
      "hospital_outcome_1alive_0dead ~ np.power(age_years,2) + np.power(sex_0male_1female,2) + np.power(episode_number,2) : 0.12338\n",
      "Optimization terminated successfully.\n",
      "         Current function value: 0.459445\n",
      "         Iterations 6\n",
      "hospital_outcome_1alive_0dead ~ np.power(age_years,2) : 0.00161\n",
      "Optimization terminated successfully.\n",
      "         Current function value: 0.458175\n",
      "         Iterations 6\n",
      "hospital_outcome_1alive_0dead ~ np.power(sex_0male_1female,2) : 0.00437\n",
      "Optimization terminated successfully.\n",
      "         Current function value: 0.405959\n",
      "         Iterations 6\n",
      "hospital_outcome_1alive_0dead ~ np.power(episode_number,2) : 0.11783\n"
     ]
    }
   ],
   "source": [
    "LogRegModelSqrt(independVarList)\n",
    "LogRegModelSqrt(independVarList[0:1])\n",
    "LogRegModelSqrt(independVarList[1:2])\n",
    "LogRegModelSqrt(independVarList[2:3])"
   ]
  },
  {
   "cell_type": "code",
   "execution_count": null,
   "metadata": {},
   "outputs": [],
   "source": []
  }
 ],
 "metadata": {
  "kernelspec": {
   "display_name": "Python 3",
   "language": "python",
   "name": "python3"
  },
  "language_info": {
   "codemirror_mode": {
    "name": "ipython",
    "version": 3
   },
   "file_extension": ".py",
   "mimetype": "text/x-python",
   "name": "python",
   "nbconvert_exporter": "python",
   "pygments_lexer": "ipython3",
   "version": "3.8.5"
  }
 },
 "nbformat": 4,
 "nbformat_minor": 4
}
